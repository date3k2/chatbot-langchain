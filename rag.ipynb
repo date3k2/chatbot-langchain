{
 "cells": [
  {
   "cell_type": "code",
   "execution_count": 1,
   "metadata": {},
   "outputs": [],
   "source": [
    "import warnings\n",
    "\n",
    "warnings.filterwarnings(\"ignore\")"
   ]
  },
  {
   "cell_type": "code",
   "execution_count": 2,
   "metadata": {},
   "outputs": [],
   "source": [
    "import openai\n",
    "from dotenv import load_dotenv, find_dotenv\n",
    "import os\n",
    "import sys\n",
    "\n",
    "sys.path.append(\"../..\")\n",
    "\n",
    "\n",
    "_ = load_dotenv(find_dotenv())  # read local .env file\n",
    "\n",
    "HUGGINGFACEHUB_API_TOKEN = os.environ[\"HUGGINGFACEHUB_API_TOKEN\"]\n",
    "\n",
    "openai.api_key = os.environ[\"OPENAI_API_KEY\"]\n",
    "ELASTIC_PASSWORD = os.environ[\"ELASTIC_PASSWORD\"]"
   ]
  },
  {
   "cell_type": "code",
   "execution_count": 3,
   "metadata": {},
   "outputs": [],
   "source": [
    "import langchain\n",
    "\n",
    "langchain.debug = False"
   ]
  },
  {
   "cell_type": "code",
   "execution_count": 4,
   "metadata": {},
   "outputs": [
    {
     "name": "stderr",
     "output_type": "stream",
     "text": [
      "/root/datnt/rag/.venv/lib64/python3.11/site-packages/langchain_core/_api/deprecation.py:117: LangChainDeprecationWarning: The class `langchain_community.embeddings.openai.OpenAIEmbeddings` was deprecated in langchain-community 0.0.9 and will be removed in 0.2.0. An updated version of the class exists in the langchain-openai package and should be used instead. To use it run `pip install -U langchain-openai` and import as `from langchain_openai import OpenAIEmbeddings`.\n",
      "  warn_deprecated(\n"
     ]
    }
   ],
   "source": [
    "from langchain_community.embeddings import (\n",
    "    HuggingFaceInferenceAPIEmbeddings,\n",
    "    OpenAIEmbeddings,\n",
    ")\n",
    "\n",
    "embeddings_hf = HuggingFaceInferenceAPIEmbeddings(\n",
    "    model_name=\"sentence-transformers/all-MiniLM-l6-v2\",\n",
    "    api_key=HUGGINGFACEHUB_API_TOKEN,\n",
    ")\n",
    "\n",
    "embeddings_openai = OpenAIEmbeddings()"
   ]
  },
  {
   "cell_type": "code",
   "execution_count": 6,
   "metadata": {},
   "outputs": [],
   "source": [
    "import asyncio\n",
    "from pyppeteer import launch\n",
    "from bs4 import BeautifulSoup\n",
    "import nest_asyncio\n",
    "page = None\n",
    "\n",
    "\n",
    "async def main(url):\n",
    "    global page\n",
    "    browser = await launch()\n",
    "    page = await browser.newPage()\n",
    "    await page.goto(url)\n",
    "\n",
    "    # Get the page content after JavaScript execution\n",
    "    page_content = await page.content()\n",
    "\n",
    "    # Close the browser\n",
    "    await browser.close()\n",
    "\n",
    "    # Now you can use BeautifulSoup to parse the page content\n",
    "    soup = BeautifulSoup(page_content, 'html.parser')\n",
    "\n",
    "    # Perform scraping using BeautifulSoup on the dynamically rendered content\n",
    "    # ...return soup\n",
    "    # print(soup.prettify())\n",
    "    return soup\n",
    "\n",
    "nest_asyncio.apply()\n",
    "url = \"https://www.mdcsoftware.com.vn/\"\n",
    "soup = asyncio.get_event_loop().run_until_complete(main(url))"
   ]
  },
  {
   "cell_type": "code",
   "execution_count": null,
   "metadata": {},
   "outputs": [],
   "source": [
    "from bs4 import BeautifulSoup\n",
    "\n",
    "recruiment = BeautifulSoup()\n",
    "block = \"MDC SoftwareYou need to enable JavaScript to run this app.\""
   ]
  },
  {
   "cell_type": "code",
   "execution_count": 8,
   "metadata": {},
   "outputs": [],
   "source": [
    "while not recruiment.text or recruiment.text == block:\n",
    "    recruiment = asyncio.get_event_loop().run_until_complete(main(url + \"recruitment\"))"
   ]
  },
  {
   "cell_type": "code",
   "execution_count": 11,
   "metadata": {},
   "outputs": [],
   "source": [
    "from langchain.text_splitter import HTMLHeaderTextSplitter, RecursiveCharacterTextSplitter\n",
    "headers_to_split_on = [\n",
    "    (\"h1\", \"Header 1\"),\n",
    "    (\"h2\", \"Header 2\"),\n",
    "    (\"h3\", \"Header 3\"),\n",
    "    (\"h4\", \"Header 4\"),\n",
    "    (\"h5\", \"Header 5\"),\n",
    "]\n",
    "\n",
    "html_splitter = HTMLHeaderTextSplitter(headers_to_split_on=headers_to_split_on)\n",
    "\n",
    "html_header_splits = html_splitter.split_text(\n",
    "    soup.text[:12] + soup.text[58:] + \"\\n\" + recruiment.text[113:-225])\n",
    "\n",
    "chunk_size = 200\n",
    "chunk_overlap = 30\n",
    "text_splitter = RecursiveCharacterTextSplitter(\n",
    "    chunk_size=chunk_size, chunk_overlap=chunk_overlap\n",
    ")\n",
    "\n",
    "docs = text_splitter.split_documents(html_header_splits)"
   ]
  },
  {
   "cell_type": "code",
   "execution_count": null,
   "metadata": {},
   "outputs": [],
   "source": [
    "from agentic_chunking import get_propositions\n",
    "\n",
    "propositions = get_propositions(\n",
    "    soup.text[:12] + soup.text[58:] + \"\\n\" + recruiment.text[113:-225])"
   ]
  },
  {
   "cell_type": "code",
   "execution_count": 5,
   "metadata": {},
   "outputs": [],
   "source": [
    "propositions = ['About Us: MDC Software is a technology company specializing in product design and development for high growth companies.',\n",
    "                'Services and Products: MDC Software offers services such as web application development, artificial intelligence, internet of things, UX design, streaming solutions, product marketing, payment integration, blockchain, technical advice, and more. They also have developed products such as iVPN, iMatch, Advanced IPTV Player, and Can Knockdown.',\n",
    "                'Address: MDC VIETNAM MEDIA AND TECHNOLOGY COMPANY LIMITED, 15th Floor, Viet A Building, No. 9 Duy Tan, Cau Giay, Hanoi',\n",
    "                'Contact: 0868.733.900, hello@mdcsoftware.com.vn',\n",
    "                'Recruitment: MDC Media is currently recruiting front-end react native developers and freshers for new projects. The job description includes JavaScript programming, participation in project development, and application development on platforms such as React Native and ReactJS.',\n",
    "                \"Mission: MDC Software's mission is to create new value for customers and partners through technology solutions.\",\n",
    "                'FAQ: Do you intend to find companies writing mobile applications? MDC Media is working in Hanoi City specializing in mobile development and web design for individuals, companies, and startups.']"
   ]
  },
  {
   "cell_type": "markdown",
   "metadata": {},
   "source": [
    "## FAISS db\n"
   ]
  },
  {
   "cell_type": "code",
   "execution_count": null,
   "metadata": {},
   "outputs": [],
   "source": [
    "from langchain_community.vectorstores import FAISS\n",
    "\n",
    "db = await FAISS.afrom_texts(propositions, embeddings_openai)"
   ]
  },
  {
   "cell_type": "markdown",
   "metadata": {},
   "source": [
    "## Elastic Search\n"
   ]
  },
  {
   "cell_type": "code",
   "execution_count": 8,
   "metadata": {},
   "outputs": [],
   "source": [
    "ELS_API_KEY = os.environ[\"ELS_API_KEY\"]\n",
    "ELS_CLOUD_ID = os.environ[\"ELS_CLOUD_ID\"]"
   ]
  },
  {
   "cell_type": "code",
   "execution_count": 40,
   "metadata": {},
   "outputs": [],
   "source": [
    "from elasticsearch import Elasticsearch\n",
    "from langchain_elasticsearch import ElasticsearchStore\n",
    "\n",
    "# es_client = elasticsearch.Elasticsearch(\n",
    "#     cloud_id=ELS_CLOUD_ID,\n",
    "#     api_key=ELS_API_KEY,\n",
    "#     max_retries=5,\n",
    "# )\n",
    "es = Elasticsearch(\n",
    "    \"https://localhost:9200\",\n",
    "    # hosts = \"https://51.89.155.81:80\",\n",
    "    ca_certs=\"./ca.crt\",\n",
    "    basic_auth=(\"elastic\", ELASTIC_PASSWORD),\n",
    "    max_retries=5,\n",
    ")\n",
    "vectorstore = ElasticsearchStore(\n",
    "    index_name=\"mdc\", es_connection=es, embedding=embeddings_openai\n",
    ")"
   ]
  },
  {
   "cell_type": "code",
   "execution_count": 41,
   "metadata": {},
   "outputs": [
    {
     "data": {
      "text/plain": [
       "ObjectApiResponse({'name': 'es01', 'cluster_name': 'docker-cluster', 'cluster_uuid': 'EnYfC3zPQwq7sOTNroFG3A', 'version': {'number': '8.12.2', 'build_flavor': 'default', 'build_type': 'docker', 'build_hash': '48a287ab9497e852de30327444b0809e55d46466', 'build_date': '2024-02-19T10:04:32.774273190Z', 'build_snapshot': False, 'lucene_version': '9.9.2', 'minimum_wire_compatibility_version': '7.17.0', 'minimum_index_compatibility_version': '7.0.0'}, 'tagline': 'You Know, for Search'})"
      ]
     },
     "execution_count": 41,
     "metadata": {},
     "output_type": "execute_result"
    }
   ],
   "source": [
    "es.info()"
   ]
  },
  {
   "cell_type": "code",
   "execution_count": 15,
   "metadata": {},
   "outputs": [
    {
     "data": {
      "text/plain": [
       "['668ef46b-dfd8-4e3f-8240-ccfecd315573',\n",
       " 'a96158cc-8009-4e22-be5e-7044d9362590',\n",
       " '72ace49b-ee51-4263-823d-c3a76cd742db',\n",
       " '4103ed46-6d8c-4dbd-8d82-87442ebfe4a7',\n",
       " 'f92d6d95-f08c-4034-92fc-cd2a224badd3',\n",
       " 'f3a5c945-efe3-40c3-81e9-38b9e0e5c107',\n",
       " 'a90a803a-8701-41cc-9361-eb12b9e9ddf7']"
      ]
     },
     "execution_count": 15,
     "metadata": {},
     "output_type": "execute_result"
    }
   ],
   "source": [
    "vectorstore.add_texts(propositions)"
   ]
  },
  {
   "cell_type": "code",
   "execution_count": 17,
   "metadata": {},
   "outputs": [],
   "source": [
    "from langchain.chat_models import ChatOpenAI\n",
    "\n",
    "from langchain_core.output_parsers import StrOutputParser\n",
    "from langchain_core.prompts import ChatPromptTemplate\n",
    "from langchain_core.runnables import (\n",
    "    RunnablePassthrough,\n",
    ")\n",
    "from langchain.callbacks.streaming_stdout import StreamingStdOutCallbackHandler\n",
    "\n",
    "retriever = vectorstore.as_retriever(search_type=\"mmr\", search_kwargs={\"k\": 2})\n",
    "\n",
    "template = \"\"\"You're helpful assistant, please answer the question based only on the following context:\n",
    "{context}\n",
    "Your response based on user's question language.\n",
    "Question: {question}\n",
    "\"\"\"\n",
    "prompt = ChatPromptTemplate.from_template(template)\n",
    "\n",
    "model = ChatOpenAI(\n",
    "    model_name=\"gpt-3.5-turbo-1106\",\n",
    "    temperature=0,\n",
    "    callbacks=[StreamingStdOutCallbackHandler()],\n",
    "    streaming=True,\n",
    ")\n",
    "chain = (\n",
    "    {\"context\": retriever, \"question\": RunnablePassthrough()}\n",
    "    | prompt\n",
    "    | model\n",
    "    | StrOutputParser()\n",
    ")"
   ]
  },
  {
   "cell_type": "code",
   "execution_count": 18,
   "metadata": {},
   "outputs": [
    {
     "name": "stdout",
     "output_type": "stream",
     "text": [
      "Based on the information provided, MDC Software is currently recruiting front-end react native developers and freshers for new projects. If you have the required skills and qualifications, you may be able to apply for a job at MDC Software."
     ]
    },
    {
     "data": {
      "text/plain": [
       "'Based on the information provided, MDC Software is currently recruiting front-end react native developers and freshers for new projects. If you have the required skills and qualifications, you may be able to apply for a job at MDC Software.'"
      ]
     },
     "execution_count": 18,
     "metadata": {},
     "output_type": "execute_result"
    }
   ],
   "source": [
    "chain.invoke(\"Can I get a job at MDC Software?\")"
   ]
  }
 ],
 "metadata": {
  "kernelspec": {
   "display_name": "Python 3",
   "language": "python",
   "name": "python3"
  },
  "language_info": {
   "codemirror_mode": {
    "name": "ipython",
    "version": 3
   },
   "file_extension": ".py",
   "mimetype": "text/x-python",
   "name": "python",
   "nbconvert_exporter": "python",
   "pygments_lexer": "ipython3",
   "version": "3.11.7"
  }
 },
 "nbformat": 4,
 "nbformat_minor": 2
}
