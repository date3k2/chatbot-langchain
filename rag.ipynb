{
 "cells": [
  {
   "cell_type": "code",
   "execution_count": 1,
   "metadata": {},
   "outputs": [],
   "source": [
    "import warnings\n",
    "warnings.filterwarnings(\"ignore\")"
   ]
  },
  {
   "cell_type": "code",
   "execution_count": 2,
   "metadata": {},
   "outputs": [],
   "source": [
    "import openai\n",
    "from dotenv import load_dotenv, find_dotenv\n",
    "import os\n",
    "import sys\n",
    "\n",
    "sys.path.append(\"../..\")\n",
    "\n",
    "\n",
    "_ = load_dotenv(find_dotenv())  # read local .env file\n",
    "\n",
    "HUGGINGFACEHUB_API_TOKEN = os.environ[\"HUGGINGFACEHUB_API_TOKEN\"]\n",
    "\n",
    "openai.api_key = os.environ[\"OPENAI_API_KEY\"]"
   ]
  },
  {
   "cell_type": "code",
   "execution_count": 3,
   "metadata": {},
   "outputs": [],
   "source": [
    "import langchain\n",
    "\n",
    "langchain.debug = False"
   ]
  },
  {
   "cell_type": "code",
   "execution_count": 4,
   "metadata": {},
   "outputs": [
    {
     "name": "stderr",
     "output_type": "stream",
     "text": [
      "/home/codespace/.python/current/lib/python3.10/site-packages/langchain_core/_api/deprecation.py:117: LangChainDeprecationWarning: The class `langchain_community.embeddings.openai.OpenAIEmbeddings` was deprecated in langchain-community 0.1.0 and will be removed in 0.2.0. An updated version of the class exists in the langchain-openai package and should be used instead. To use it run `pip install -U langchain-openai` and import as `from langchain_openai import OpenAIEmbeddings`.\n",
      "  warn_deprecated(\n"
     ]
    }
   ],
   "source": [
    "from langchain_community.embeddings import HuggingFaceInferenceAPIEmbeddings, OpenAIEmbeddings\n",
    "\n",
    "embeddings_hf = HuggingFaceInferenceAPIEmbeddings(\n",
    "    model_name=\"sentence-transformers/all-MiniLM-l6-v2\",\n",
    "    api_key=HUGGINGFACEHUB_API_TOKEN,\n",
    ")\n",
    "\n",
    "embeddings_openai = OpenAIEmbeddings()"
   ]
  },
  {
   "cell_type": "code",
   "execution_count": 5,
   "metadata": {},
   "outputs": [],
   "source": [
    "import asyncio\n",
    "from pyppeteer import launch\n",
    "from bs4 import BeautifulSoup\n",
    "import nest_asyncio\n",
    "page = None\n",
    "async def main(url):\n",
    "    global page\n",
    "    browser = await launch()\n",
    "    page = await browser.newPage()\n",
    "    await page.goto(url)\n",
    "    \n",
    "    # Get the page content after JavaScript execution\n",
    "    page_content = await page.content()\n",
    "\n",
    "    # Close the browser\n",
    "    await browser.close()\n",
    "\n",
    "    # Now you can use BeautifulSoup to parse the page content\n",
    "    soup = BeautifulSoup(page_content, 'html.parser')\n",
    "\n",
    "    # Perform scraping using BeautifulSoup on the dynamically rendered content\n",
    "    # ...return soup\n",
    "    # print(soup.prettify())\n",
    "    return soup\n",
    "\n",
    "nest_asyncio.apply()\n",
    "url = \"https://www.mdcsoftware.com.vn/\"\n",
    "soup = asyncio.get_event_loop().run_until_complete(main(url))\n",
    "\n"
   ]
  },
  {
   "cell_type": "code",
   "execution_count": 7,
   "metadata": {},
   "outputs": [],
   "source": [
    "recruiment = asyncio.get_event_loop().run_until_complete(main(url+\"recruitment\"))"
   ]
  },
  {
   "cell_type": "code",
   "execution_count": 20,
   "metadata": {},
   "outputs": [],
   "source": [
    "from langchain.text_splitter import HTMLHeaderTextSplitter, RecursiveCharacterTextSplitter\n",
    "headers_to_split_on = [\n",
    "    (\"h1\", \"Header 1\"),\n",
    "    (\"h2\", \"Header 2\"),\n",
    "    (\"h3\", \"Header 3\"),\n",
    "    (\"h4\", \"Header 4\"),\n",
    "    (\"h5\", \"Header 5\"),\n",
    "]\n",
    "\n",
    "html_splitter = HTMLHeaderTextSplitter(headers_to_split_on=headers_to_split_on)\n",
    "\n",
    "html_header_splits = html_splitter.split_text(soup.text[:12] + soup.text[58:] + \"\\n\" + recruiment.text[113:-225])\n",
    "\n",
    "chunk_size = 200\n",
    "chunk_overlap = 30\n",
    "text_splitter = RecursiveCharacterTextSplitter(\n",
    "    chunk_size=chunk_size, chunk_overlap=chunk_overlap\n",
    ")\n",
    "\n",
    "docs = text_splitter.split_documents(html_header_splits)"
   ]
  },
  {
   "cell_type": "code",
   "execution_count": null,
   "metadata": {},
   "outputs": [],
   "source": [
    "from agentic_chunking import get_propositions\n",
    "\n",
    "propositions = get_propositions(soup.text[:12] + soup.text[58:] + \"\\n\" + recruiment.text[113:-225])"
   ]
  },
  {
   "cell_type": "code",
   "execution_count": 10,
   "metadata": {},
   "outputs": [
    {
     "data": {
      "text/plain": [
       "['About Us: MDC Software is a technology company based in Hanoi City, specializing in mobile development and web design for individuals, companies, and startups.',\n",
       " 'Services and Products: MDC Software offers a range of services including web application development, artificial intelligence, internet of things, UX design, streaming solutions, product marketing, payment integration, blockchain, technical advice, and more. They also have a portfolio of products such as iVPN, iMatch, Advanced IPTV Player, and experience in augmented reality.',\n",
       " 'Recruitment: MDC Software is currently recruiting front-end react native developers and freshers for new projects. The job description includes JavaScript programming, participation in project development, and application development on platforms like React Native and ReactJS.',\n",
       " 'Address and Contact: MDC VIETNAM MEDIA AND TECHNOLOGY COMPANY LIMITED is located on the 15th Floor, Viet A Building, No. 9 Duy Tan, Cau Giay, Hanoi. They can be contacted at 0868.733.900 or hello@mdcsoftware.com.vn.',\n",
       " \"Mission: MDC Software's mission is to create new value for their customers and partners by solving complex business challenges with technology.\",\n",
       " 'Careers: MDC Software offers opportunities for freshers and experienced developers to join their specialized teams and work on high growth projects.',\n",
       " 'FAQ: MDC Software provides free project consultancy, extensive QA processes, and 24/7 customer support to their clients.']"
      ]
     },
     "execution_count": 10,
     "metadata": {},
     "output_type": "execute_result"
    }
   ],
   "source": [
    "propositions"
   ]
  },
  {
   "cell_type": "code",
   "execution_count": 13,
   "metadata": {},
   "outputs": [],
   "source": [
    "from langchain.text_splitter import CharacterTextSplitter\n",
    "from langchain_community.document_loaders import TextLoader\n",
    "from langchain_community.vectorstores import Chroma, FAISS\n",
    "\n",
    "db = await FAISS.afrom_texts(propositions,embeddings_openai)"
   ]
  },
  {
   "cell_type": "code",
   "execution_count": 14,
   "metadata": {},
   "outputs": [],
   "source": [
    "from langchain.chat_models import ChatOpenAI\n",
    "\n",
    "from langchain_core.output_parsers import StrOutputParser\n",
    "from langchain_core.prompts import ChatPromptTemplate\n",
    "from langchain_core.runnables import (\n",
    "    RunnablePassthrough,\n",
    "    RunnableParallel,\n",
    ")\n",
    "from langchain.callbacks.streaming_stdout import StreamingStdOutCallbackHandler\n",
    "\n",
    "retriever = db.as_retriever(search_type=\"mmr\", search_kwargs={\"k\": 2})\n",
    "\n",
    "template = \"\"\"You're helpful assistant, please answer the question based only on the following context:\n",
    "{context}\n",
    "Your response based on user's question language.\n",
    "Question: {question}\n",
    "\"\"\"\n",
    "prompt = ChatPromptTemplate.from_template(template)\n",
    "\n",
    "model = ChatOpenAI(\n",
    "    model_name=\"gpt-3.5-turbo-1106\",\n",
    "    temperature=0,\n",
    "    callbacks=[StreamingStdOutCallbackHandler()],\n",
    "    streaming=True,\n",
    ")\n",
    "chain = (\n",
    "    {\"context\": retriever, \"question\": RunnablePassthrough()}\n",
    "    | prompt\n",
    "    | model\n",
    "    | StrOutputParser()\n",
    ")"
   ]
  },
  {
   "cell_type": "code",
   "execution_count": 19,
   "metadata": {},
   "outputs": [
    {
     "name": "stdout",
     "output_type": "stream",
     "text": [
      "MDC là một công ty công nghệ có trụ sở tại thành phố Hà Nội, chuyên về phát triển ứng dụng di động và thiết kế web cho cá nhân, công ty và các doanh nghiệp khởi nghiệp. Địa chỉ của MDC VIETNAM MEDIA AND TECHNOLOGY COMPANY LIMITED là tầng 15, tòa nhà Viet A, số 9 Đuy Tân, Cầu Giấy, Hà Nội. Để liên hệ, bạn có thể gọi theo số 0868.733.900 hoặc gửi email đến hello@mdcsoftware.com.vn."
     ]
    },
    {
     "data": {
      "text/plain": [
       "'MDC là một công ty công nghệ có trụ sở tại thành phố Hà Nội, chuyên về phát triển ứng dụng di động và thiết kế web cho cá nhân, công ty và các doanh nghiệp khởi nghiệp. Địa chỉ của MDC VIETNAM MEDIA AND TECHNOLOGY COMPANY LIMITED là tầng 15, tòa nhà Viet A, số 9 Đuy Tân, Cầu Giấy, Hà Nội. Để liên hệ, bạn có thể gọi theo số 0868.733.900 hoặc gửi email đến hello@mdcsoftware.com.vn.'"
      ]
     },
     "execution_count": 19,
     "metadata": {},
     "output_type": "execute_result"
    }
   ],
   "source": [
    "chain.invoke(\"MDC là gì?\")"
   ]
  }
 ],
 "metadata": {
  "kernelspec": {
   "display_name": "Python 3",
   "language": "python",
   "name": "python3"
  },
  "language_info": {
   "codemirror_mode": {
    "name": "ipython",
    "version": 3
   },
   "file_extension": ".py",
   "mimetype": "text/x-python",
   "name": "python",
   "nbconvert_exporter": "python",
   "pygments_lexer": "ipython3",
   "version": "3.10.13"
  }
 },
 "nbformat": 4,
 "nbformat_minor": 2
}
