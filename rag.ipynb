{
 "cells": [
  {
   "cell_type": "code",
   "execution_count": 11,
   "metadata": {},
   "outputs": [],
   "source": [
    "import openai\n",
    "from dotenv import load_dotenv, find_dotenv\n",
    "import os\n",
    "import sys\n",
    "\n",
    "sys.path.append(\"../..\")\n",
    "\n",
    "\n",
    "_ = load_dotenv(find_dotenv())  # read local .env file\n",
    "\n",
    "HUGGINGFACEHUB_API_TOKEN = os.environ[\"HUGGINGFACEHUB_API_TOKEN\"]\n",
    "\n",
    "openai.api_key = os.environ[\"OPENAI_API_KEY\"]"
   ]
  },
  {
   "cell_type": "code",
   "execution_count": 17,
   "metadata": {},
   "outputs": [],
   "source": [
    "import langchain\n",
    "\n",
    "langchain.debug = False"
   ]
  },
  {
   "cell_type": "code",
   "execution_count": 13,
   "metadata": {},
   "outputs": [],
   "source": [
    "from langchain_community.embeddings import HuggingFaceInferenceAPIEmbeddings\n",
    "\n",
    "embeddings = HuggingFaceInferenceAPIEmbeddings(\n",
    "    model_name=\"sentence-transformers/all-MiniLM-l6-v2\",\n",
    "    api_key=HUGGINGFACEHUB_API_TOKEN,\n",
    ")"
   ]
  },
  {
   "cell_type": "code",
   "execution_count": 4,
   "metadata": {},
   "outputs": [],
   "source": [
    "mdc = \"\"\"\n",
    "\n",
    "Welcome to MDC Media, where expertise meets innovation. As a dynamic technology company based in Hanoi City, we specialize in mobile development and web design, catering to individuals, companies, and startups. Our dedicated team, guided by the mantra \"One app at a time,\" is committed to transforming your ideas into cutting-edge solutions.\n",
    "\n",
    "At MDC, our specialized teams seamlessly blend strategy, technology, data science, and design to tackle the most intricate business challenges. Whether you're a high-growth company or a startup with bold ideas, we lead the product design and development process with precision and enthusiasm.\n",
    "\n",
    "- *Web Application:* MDC SOFTWARE is committed to building the highest quality applications.\n",
    "- *Artificial Intelligence:* Delve into the future with our expertise in AI, IoT, and big data analysis.\n",
    "- *UX Design:* Our professional design team crafts intuitive and user-friendly applications.\n",
    "- *Streaming Solution:* We develop audio/video streaming systems capable of supporting millions of concurrent users.\n",
    "- *Product Marketing:* Harness the power of modern social media to reach millions of users cost-effectively.\n",
    "- *Payment Integration:* Seamlessly integrate common payment gateways like PayPal, VISA/MASTER.\n",
    "- *Blockchain:* Benefit from our extensive experience in blockchain technology, renowned in the region.\n",
    "- *Technical Advice:* We provide comprehensive technical advice, support, and solutions for your IT infrastructure.\n",
    "\n",
    "Explore our diverse portfolio, including projects like IPFM for Digital Audio Broadcasting, eKYC for Digital Customer Onboarding, and innovative mobile applications such as iVPN, iMatch, and Advanced IPTV Player. Our experiences also extend to Augmented Reality, exemplified by projects like Can Knockdown - AR and Living In The Battles.\n",
    "\n",
    "Behind every successful product is a dedicated team. Meet our professionals who excel in idealizing, analyzing, designing, and developing products. We believe in creating better user experiences with a systematic and rigorous approach.\n",
    "\n",
    "Are you passionate about mobile development and web design? MDC Media is actively recruiting frontend React Native developers and freshers. Join us on our journey to create groundbreaking projects, and be part of a team that values learning, growth, and innovation.\n",
    "\n",
    "\n",
    "Feel inspired to connect with us? Whether you're seeking our services or considering a career with MDC, we're here for you. Complete the form on our Contact page, and our team will reach out promptly.\n",
    "\n",
    "MDC VIETNAM MEDIA AND TECHNOLOGY COMPANY LIMITED\n",
    "15th Floor, Viet A Building, No. 9 Duy Tan, Cau Giay, Hanoi\n",
    "Contact: 0868.733.900\n",
    "Email: hello@mdcsoftware.com.vn\n",
    "\n",
    "Stay updated with MDC Media on social media for the latest news, projects, and industry insights.\n",
    "\n",
    "At MDC Media, we're not just building applications; we're building experiences. Join us in shaping the future—one app at a time. Copyright © 2021 MDC MEDIA CO.,LTD. All Rights Reserved.\n",
    "\"\"\"\n",
    "summary = mdc.split(\"\\n\\n\")[1:]"
   ]
  },
  {
   "cell_type": "code",
   "execution_count": 14,
   "metadata": {},
   "outputs": [
    {
     "name": "stdout",
     "output_type": "stream",
     "text": [
      "[Document(page_content=\"At MDC, our specialized teams seamlessly blend strategy, technology, data science, and design to tackle the most intricate business challenges. Whether you're a high-growth company or a startup with bold ideas, we lead the product design and development process with precision and enthusiasm.\"), Document(page_content='- *Web Application:* MDC SOFTWARE is committed to building the highest quality applications.\\n- *Artificial Intelligence:* Delve into the future with our expertise in AI, IoT, and big data analysis.\\n- *UX Design:* Our professional design team crafts intuitive and user-friendly applications.\\n- *Streaming Solution:* We develop audio/video streaming systems capable of supporting millions of concurrent users.\\n- *Product Marketing:* Harness the power of modern social media to reach millions of users cost-effectively.\\n- *Payment Integration:* Seamlessly integrate common payment gateways like PayPal, VISA/MASTER.\\n- *Blockchain:* Benefit from our extensive experience in blockchain technology, renowned in the region.\\n- *Technical Advice:* We provide comprehensive technical advice, support, and solutions for your IT infrastructure.'), Document(page_content='Welcome to MDC Media, where expertise meets innovation. As a dynamic technology company based in Hanoi City, we specialize in mobile development and web design, catering to individuals, companies, and startups. Our dedicated team, guided by the mantra \"One app at a time,\" is committed to transforming your ideas into cutting-edge solutions.'), Document(page_content=\"At MDC Media, we're not just building applications; we're building experiences. Join us in shaping the future—one app at a time. Copyright © 2021 MDC MEDIA CO.,LTD. All Rights Reserved.\\n\")]\n"
     ]
    }
   ],
   "source": [
    "from langchain.text_splitter import CharacterTextSplitter\n",
    "from langchain_community.document_loaders import TextLoader\n",
    "from langchain_community.vectorstores import FAISS\n",
    "\n",
    "db = await FAISS.afrom_texts(summary, embeddings)\n",
    "query = \"Name some of the projects MDC Software has worked on\"\n",
    "docs = await db.asimilarity_search(query)\n",
    "\n",
    "print(docs)"
   ]
  },
  {
   "cell_type": "code",
   "execution_count": 36,
   "metadata": {},
   "outputs": [],
   "source": [
    "from langchain.chat_models import ChatOpenAI\n",
    "from operator import itemgetter\n",
    "\n",
    "from langchain_community.vectorstores import FAISS\n",
    "from langchain_core.output_parsers import StrOutputParser\n",
    "from langchain_core.prompts import ChatPromptTemplate\n",
    "from langchain_core.runnables import (\n",
    "    RunnableLambda,\n",
    "    RunnablePassthrough,\n",
    "    RunnableParallel,\n",
    ")\n",
    "from langchain.callbacks.streaming_stdout import StreamingStdOutCallbackHandler\n",
    "\n",
    "retriever = db.as_retriever()\n",
    "\n",
    "template = \"\"\"You're helpful assistant, please answer the question based only on the following context:\n",
    "{context}\n",
    "Your response based on user's question language.\n",
    "Question: {question}\n",
    "\"\"\"\n",
    "prompt = ChatPromptTemplate.from_template(template)\n",
    "\n",
    "model = ChatOpenAI(\n",
    "    model_name=\"gpt-3.5-turbo-1106\",\n",
    "    temperature=0,\n",
    "    callbacks=[StreamingStdOutCallbackHandler()],\n",
    "    streaming=True,\n",
    ")\n",
    "chain = (\n",
    "    RunnableParallel({\"context\": retriever, \"question\": RunnablePassthrough()})\n",
    "    | prompt\n",
    "    | model\n",
    "    | StrOutputParser()\n",
    ")"
   ]
  },
  {
   "cell_type": "code",
   "execution_count": 38,
   "metadata": {},
   "outputs": [
    {
     "name": "stdout",
     "output_type": "stream",
     "text": [
      "Trụ sở chính của MDC nằm tại tòa nhà Viet A, số 9 Đuy Tân, quận Cầu Giấy, Hà Nội."
     ]
    },
    {
     "data": {
      "text/plain": [
       "'Trụ sở chính của MDC nằm tại tòa nhà Viet A, số 9 Đuy Tân, quận Cầu Giấy, Hà Nội.'"
      ]
     },
     "execution_count": 38,
     "metadata": {},
     "output_type": "execute_result"
    }
   ],
   "source": [
    "chain.invoke(\"Văn phòng của MDC ở quận nào?\")"
   ]
  }
 ],
 "metadata": {
  "kernelspec": {
   "display_name": "Python 3",
   "language": "python",
   "name": "python3"
  },
  "language_info": {
   "codemirror_mode": {
    "name": "ipython",
    "version": 3
   },
   "file_extension": ".py",
   "mimetype": "text/x-python",
   "name": "python",
   "nbconvert_exporter": "python",
   "pygments_lexer": "ipython3",
   "version": "3.10.13"
  }
 },
 "nbformat": 4,
 "nbformat_minor": 2
}
